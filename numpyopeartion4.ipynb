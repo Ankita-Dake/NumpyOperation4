{
 "cells": [
  {
   "cell_type": "code",
   "execution_count": 1,
   "id": "bf747da2",
   "metadata": {},
   "outputs": [
    {
     "data": {
      "text/plain": [
       "array([10, 20, 30, 40, 50, 60, 70, 80, 90, 11, 21, 31, 42, 52, 62, 73, 83,\n",
       "       93])"
      ]
     },
     "execution_count": 1,
     "metadata": {},
     "output_type": "execute_result"
    }
   ],
   "source": [
    "import numpy as np  \n",
    "a=np.array([[10, 20, 30], [40, 50, 60], [70, 80, 90]])  \n",
    "b=np.array([[11, 21, 31], [42, 52, 62], [73, 83, 93]])  \n",
    "c=np.append(a,b)  \n",
    "c  "
   ]
  },
  {
   "cell_type": "code",
   "execution_count": 4,
   "id": "deacb819",
   "metadata": {},
   "outputs": [
    {
     "data": {
      "text/plain": [
       "array([[1, 3],\n",
       "       [2, 4]])"
      ]
     },
     "execution_count": 4,
     "metadata": {},
     "output_type": "execute_result"
    }
   ],
   "source": [
    "import numpy as np  \n",
    "a1= np.arange(6).reshape((2,3))  \n",
    "a1  \n",
    "b=np.transpose(a)  \n",
    "b  "
   ]
  },
  {
   "cell_type": "code",
   "execution_count": 6,
   "id": "052db241",
   "metadata": {},
   "outputs": [
    {
     "name": "stdout",
     "output_type": "stream",
     "text": [
      "2.5\n",
      "13.0\n"
     ]
    }
   ],
   "source": [
    "import numpy as np  \n",
    "a2= np.array([[1, 2], [3, 4]])  \n",
    "b2=np.mean(a2)  \n",
    "print(b2)  \n",
    "x = np.array([[5, 6], [7, 34]])  \n",
    "y=np.mean(x)  \n",
    "print(y)  "
   ]
  },
  {
   "cell_type": "code",
   "execution_count": 9,
   "id": "7ad53903",
   "metadata": {},
   "outputs": [
    {
     "data": {
      "text/plain": [
       "array([1, 2, 3, 4, 6])"
      ]
     },
     "execution_count": 9,
     "metadata": {},
     "output_type": "execute_result"
    }
   ],
   "source": [
    "import numpy as np  \n",
    "aa=np.unique([1,2,3,4,3,6,2,4])  \n",
    "aa  "
   ]
  },
  {
   "cell_type": "code",
   "execution_count": null,
   "id": "f48ae9a2",
   "metadata": {},
   "outputs": [],
   "source": []
  },
  {
   "cell_type": "code",
   "execution_count": null,
   "id": "7f62aa99",
   "metadata": {},
   "outputs": [],
   "source": []
  }
 ],
 "metadata": {
  "kernelspec": {
   "display_name": "Python 3",
   "language": "python",
   "name": "python3"
  },
  "language_info": {
   "codemirror_mode": {
    "name": "ipython",
    "version": 3
   },
   "file_extension": ".py",
   "mimetype": "text/x-python",
   "name": "python",
   "nbconvert_exporter": "python",
   "pygments_lexer": "ipython3",
   "version": "3.8.8"
  }
 },
 "nbformat": 4,
 "nbformat_minor": 5
}
